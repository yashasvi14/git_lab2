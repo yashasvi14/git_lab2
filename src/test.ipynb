{
 "cells": [
  {
   "cell_type": "code",
   "execution_count": 1,
   "metadata": {},
   "outputs": [],
   "source": [
    "from sklearn.datasets import fetch_rcv1\n",
    "import mlflow, datetime, os, pickle, random\n",
    "import sklearn\n",
    "from joblib import dump\n",
    "from sklearn.tree import DecisionTreeClassifier\n",
    "from sklearn.metrics import accuracy_score, f1_score\n",
    "\n",
    "# rcv1 = fetch_rcv1()"
   ]
  },
  {
   "cell_type": "code",
   "execution_count": 2,
   "metadata": {},
   "outputs": [],
   "source": [
    "\n",
    "# pickle.dump(rcv1.data, open('../data/data.pickle', 'wb'))\n",
    "# pickle.dump(rcv1.target, open('../data/target.pickle', 'wb'))"
   ]
  },
  {
   "cell_type": "code",
   "execution_count": 3,
   "metadata": {},
   "outputs": [],
   "source": [
    "# Check if the file exists within the folder\n",
    "if os.path.exists('../data/'): \n",
    "    X = pickle.load(open('../data/data.pickle', 'rb'))\n",
    "    y = pickle.load(open('../data/target.pickle', 'rb'))\n",
    "    y = y.toarray()[:, random.randint(0, 3)]\n",
    "\n",
    "else:\n",
    "    rcv1 = fetch_rcv1()\n",
    "    pickle.dump(open('../data/data.pickle', 'w'), rcv1.data)\n",
    "    pickle.dump(open('../data/target.pickle', 'w'), rcv1.target)  \n",
    "    X = rcv1.data  \n",
    "    y = rcv1.target.toarry()[:, random.randint(0, 3)]\n",
    "\n",
    "    "
   ]
  },
  {
   "cell_type": "code",
   "execution_count": 4,
   "metadata": {},
   "outputs": [],
   "source": [
    "\n",
    "mlflow.set_tracking_uri(\"./mlruns\")\n",
    "dataset_name = \"Reuters Corpus Volume\"\n",
    "current_time = datetime.datetime.now().strftime(\"%y%m%d_%H%M%S\")\n",
    "experiment_name = f\"{dataset_name}_{current_time}\"    \n",
    "experiment_id = mlflow.create_experiment(f\"{experiment_name}\")\n",
    "\n",
    "with mlflow.start_run(experiment_id=experiment_id,\n",
    "                      run_name= f\"{dataset_name}\"):\n",
    "    \n",
    "    params = {\n",
    "                \"dataset_name\": dataset_name,\n",
    "                \"number of datapoint\": X.shape[0],\n",
    "                \"number of dimensions\": X.shape[1]}\n",
    "    \n",
    "    mlflow.log_params(params)\n",
    "    \n",
    "    train_X, test_X, train_y, test_y = sklearn.model_selection.train_test_split(X, y, \n",
    "                                                                                test_size = 0.9,\n",
    "                                                                                shuffle = True)\n",
    "    \n",
    "    \n",
    "    dt = DecisionTreeClassifier()\n",
    "    dt.fit(train_X, train_y)\n",
    "    \n",
    "    y_predict = dt.predict(test_X)\n",
    "    mlflow.log_metrics({'Accuracy': accuracy_score(test_y, y_predict),\n",
    "                        'F1 Score': f1_score(test_y, y_predict)})\n",
    "    \n",
    "    if os.path.exists('../model/'): \n",
    "        dump(dt, f'../model/{experiment_id}.jopblib')\n",
    "                       "
   ]
  },
  {
   "cell_type": "code",
   "execution_count": null,
   "metadata": {},
   "outputs": [],
   "source": []
  }
 ],
 "metadata": {
  "kernelspec": {
   "display_name": "Lab1",
   "language": "python",
   "name": "python3"
  },
  "language_info": {
   "codemirror_mode": {
    "name": "ipython",
    "version": 3
   },
   "file_extension": ".py",
   "mimetype": "text/x-python",
   "name": "python",
   "nbconvert_exporter": "python",
   "pygments_lexer": "ipython3",
   "version": "3.9.7"
  },
  "orig_nbformat": 4
 },
 "nbformat": 4,
 "nbformat_minor": 2
}
